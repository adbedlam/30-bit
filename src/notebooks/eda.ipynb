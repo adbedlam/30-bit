{
 "cells": [
  {
   "cell_type": "code",
   "id": "initial_id",
   "metadata": {
    "collapsed": true,
    "ExecuteTime": {
     "end_time": "2025-06-29T14:44:20.803357Z",
     "start_time": "2025-06-29T14:44:20.798642Z"
    }
   },
   "source": [
    "import pandas as pd\n",
    "import numpy as np\n",
    "import matplotlib.pyplot as plt\n",
    "import seaborn as sns\n",
    "import calendar"
   ],
   "outputs": [],
   "execution_count": 80
  },
  {
   "metadata": {},
   "cell_type": "markdown",
   "source": "## 1. Первичный анализ датасета livejournal.csv\n",
   "id": "11a5935f2b738f4f"
  },
  {
   "metadata": {
    "ExecuteTime": {
     "end_time": "2025-06-29T14:10:33.571919Z",
     "start_time": "2025-06-29T14:10:32.678246Z"
    }
   },
   "cell_type": "code",
   "source": "df_live = pd.read_csv('../../data/livejournal.csv')",
   "id": "452ea4884a7e50f1",
   "outputs": [],
   "execution_count": 20
  },
  {
   "metadata": {
    "ExecuteTime": {
     "end_time": "2025-06-29T14:10:33.589401Z",
     "start_time": "2025-06-29T14:10:33.574450Z"
    }
   },
   "cell_type": "code",
   "source": "df_live",
   "id": "9f1d5656f385dd13",
   "outputs": [
    {
     "data": {
      "text/plain": [
       "                             _id                                      url  \\\n",
       "0       680b5ea843627ed63472cdc9        https://vitas1917.livejournal.com   \n",
       "1       680b5ea843627ed63472cdca         https://masterok.livejournal.com   \n",
       "2       680b5ea843627ed63472cdcb  https://alexandr-rogers.livejournal.com   \n",
       "3       680b5ea843627ed63472cdcc   https://daniel-grishin.livejournal.com   \n",
       "4       680b5ea843627ed63472cdcd       https://amarok-man.livejournal.com   \n",
       "...                          ...                                      ...   \n",
       "124145  680b5fd643627ed63474b2ba        https://asuradeva.livejournal.com   \n",
       "124146  680b5fd643627ed63474b2bb        https://samojloff.livejournal.com   \n",
       "124147  680b5fd643627ed63474b2bc        https://icona-mat.livejournal.com   \n",
       "124148  680b5fd643627ed63474b2bd        https://baydonaut.livejournal.com   \n",
       "124149  680b5fd643627ed63474b2be            https://rip25.livejournal.com   \n",
       "\n",
       "                                      title  last_taken_ts  last_published_ts  \\\n",
       "0                                       NaN     1747323601         1741202040   \n",
       "1                                       NaN     1747323601         1744788016   \n",
       "2                                       NaN     1747323601         1744723080   \n",
       "3                                       NaN     1747323601         1744737228   \n",
       "4                                       NaN     1747323601         1744737224   \n",
       "...                                     ...            ...                ...   \n",
       "124145                  asuradeva's Journal     1747323589         1635329100   \n",
       "124146  Толстые люди в просторных футболках     1747323589         1504850760   \n",
       "124147                    Ничего святого...     1747323589         1452608520   \n",
       "124148                          Байдологика     1747323589         1740651360   \n",
       "124149                      rip25's Journal     1747323589         1296351360   \n",
       "\n",
       "        last_updated_ts   extra.username  \\\n",
       "0                     0        vitas1917   \n",
       "1                     0         masterok   \n",
       "2                     0  alexandr_rogers   \n",
       "3                     0   daniel_grishin   \n",
       "4                     0       amarok_man   \n",
       "...                 ...              ...   \n",
       "124145                0        asuradeva   \n",
       "124146                0        samojloff   \n",
       "124147                0        icona_mat   \n",
       "124148                0        baydonaut   \n",
       "124149                0            rip25   \n",
       "\n",
       "                                        extra.description  \\\n",
       "0                                        Записки рушанина   \n",
       "1                                          Хочу все знать   \n",
       "2                                                     NaN   \n",
       "3                                      Русский в Германии   \n",
       "4       \" На каждый хорей найдётся свой тынзян \"-из пу...   \n",
       "...                                                   ...   \n",
       "124145                                                NaN   \n",
       "124146                Толстые люди в просторных футболках   \n",
       "124147                                  Ничего святого...   \n",
       "124148                                        Байдологика   \n",
       "124149                                          veraugust   \n",
       "\n",
       "                         type_id  \n",
       "0       680b7390fee018c5a3ed7901  \n",
       "1       680b7390fee018c5a3ed7901  \n",
       "2       680b7390fee018c5a3ed7901  \n",
       "3       680b7390fee018c5a3ed7901  \n",
       "4       680b7390fee018c5a3ed7901  \n",
       "...                          ...  \n",
       "124145  680b7390fee018c5a3ed7901  \n",
       "124146  680b7390fee018c5a3ed7901  \n",
       "124147  680b7390fee018c5a3ed7901  \n",
       "124148  680b7390fee018c5a3ed7901  \n",
       "124149  680b7390fee018c5a3ed7901  \n",
       "\n",
       "[124150 rows x 9 columns]"
      ],
      "text/html": [
       "<div>\n",
       "<style scoped>\n",
       "    .dataframe tbody tr th:only-of-type {\n",
       "        vertical-align: middle;\n",
       "    }\n",
       "\n",
       "    .dataframe tbody tr th {\n",
       "        vertical-align: top;\n",
       "    }\n",
       "\n",
       "    .dataframe thead th {\n",
       "        text-align: right;\n",
       "    }\n",
       "</style>\n",
       "<table border=\"1\" class=\"dataframe\">\n",
       "  <thead>\n",
       "    <tr style=\"text-align: right;\">\n",
       "      <th></th>\n",
       "      <th>_id</th>\n",
       "      <th>url</th>\n",
       "      <th>title</th>\n",
       "      <th>last_taken_ts</th>\n",
       "      <th>last_published_ts</th>\n",
       "      <th>last_updated_ts</th>\n",
       "      <th>extra.username</th>\n",
       "      <th>extra.description</th>\n",
       "      <th>type_id</th>\n",
       "    </tr>\n",
       "  </thead>\n",
       "  <tbody>\n",
       "    <tr>\n",
       "      <th>0</th>\n",
       "      <td>680b5ea843627ed63472cdc9</td>\n",
       "      <td>https://vitas1917.livejournal.com</td>\n",
       "      <td>NaN</td>\n",
       "      <td>1747323601</td>\n",
       "      <td>1741202040</td>\n",
       "      <td>0</td>\n",
       "      <td>vitas1917</td>\n",
       "      <td>Записки рушанина</td>\n",
       "      <td>680b7390fee018c5a3ed7901</td>\n",
       "    </tr>\n",
       "    <tr>\n",
       "      <th>1</th>\n",
       "      <td>680b5ea843627ed63472cdca</td>\n",
       "      <td>https://masterok.livejournal.com</td>\n",
       "      <td>NaN</td>\n",
       "      <td>1747323601</td>\n",
       "      <td>1744788016</td>\n",
       "      <td>0</td>\n",
       "      <td>masterok</td>\n",
       "      <td>Хочу все знать</td>\n",
       "      <td>680b7390fee018c5a3ed7901</td>\n",
       "    </tr>\n",
       "    <tr>\n",
       "      <th>2</th>\n",
       "      <td>680b5ea843627ed63472cdcb</td>\n",
       "      <td>https://alexandr-rogers.livejournal.com</td>\n",
       "      <td>NaN</td>\n",
       "      <td>1747323601</td>\n",
       "      <td>1744723080</td>\n",
       "      <td>0</td>\n",
       "      <td>alexandr_rogers</td>\n",
       "      <td>NaN</td>\n",
       "      <td>680b7390fee018c5a3ed7901</td>\n",
       "    </tr>\n",
       "    <tr>\n",
       "      <th>3</th>\n",
       "      <td>680b5ea843627ed63472cdcc</td>\n",
       "      <td>https://daniel-grishin.livejournal.com</td>\n",
       "      <td>NaN</td>\n",
       "      <td>1747323601</td>\n",
       "      <td>1744737228</td>\n",
       "      <td>0</td>\n",
       "      <td>daniel_grishin</td>\n",
       "      <td>Русский в Германии</td>\n",
       "      <td>680b7390fee018c5a3ed7901</td>\n",
       "    </tr>\n",
       "    <tr>\n",
       "      <th>4</th>\n",
       "      <td>680b5ea843627ed63472cdcd</td>\n",
       "      <td>https://amarok-man.livejournal.com</td>\n",
       "      <td>NaN</td>\n",
       "      <td>1747323601</td>\n",
       "      <td>1744737224</td>\n",
       "      <td>0</td>\n",
       "      <td>amarok_man</td>\n",
       "      <td>\" На каждый хорей найдётся свой тынзян \"-из пу...</td>\n",
       "      <td>680b7390fee018c5a3ed7901</td>\n",
       "    </tr>\n",
       "    <tr>\n",
       "      <th>...</th>\n",
       "      <td>...</td>\n",
       "      <td>...</td>\n",
       "      <td>...</td>\n",
       "      <td>...</td>\n",
       "      <td>...</td>\n",
       "      <td>...</td>\n",
       "      <td>...</td>\n",
       "      <td>...</td>\n",
       "      <td>...</td>\n",
       "    </tr>\n",
       "    <tr>\n",
       "      <th>124145</th>\n",
       "      <td>680b5fd643627ed63474b2ba</td>\n",
       "      <td>https://asuradeva.livejournal.com</td>\n",
       "      <td>asuradeva's Journal</td>\n",
       "      <td>1747323589</td>\n",
       "      <td>1635329100</td>\n",
       "      <td>0</td>\n",
       "      <td>asuradeva</td>\n",
       "      <td>NaN</td>\n",
       "      <td>680b7390fee018c5a3ed7901</td>\n",
       "    </tr>\n",
       "    <tr>\n",
       "      <th>124146</th>\n",
       "      <td>680b5fd643627ed63474b2bb</td>\n",
       "      <td>https://samojloff.livejournal.com</td>\n",
       "      <td>Толстые люди в просторных футболках</td>\n",
       "      <td>1747323589</td>\n",
       "      <td>1504850760</td>\n",
       "      <td>0</td>\n",
       "      <td>samojloff</td>\n",
       "      <td>Толстые люди в просторных футболках</td>\n",
       "      <td>680b7390fee018c5a3ed7901</td>\n",
       "    </tr>\n",
       "    <tr>\n",
       "      <th>124147</th>\n",
       "      <td>680b5fd643627ed63474b2bc</td>\n",
       "      <td>https://icona-mat.livejournal.com</td>\n",
       "      <td>Ничего святого...</td>\n",
       "      <td>1747323589</td>\n",
       "      <td>1452608520</td>\n",
       "      <td>0</td>\n",
       "      <td>icona_mat</td>\n",
       "      <td>Ничего святого...</td>\n",
       "      <td>680b7390fee018c5a3ed7901</td>\n",
       "    </tr>\n",
       "    <tr>\n",
       "      <th>124148</th>\n",
       "      <td>680b5fd643627ed63474b2bd</td>\n",
       "      <td>https://baydonaut.livejournal.com</td>\n",
       "      <td>Байдологика</td>\n",
       "      <td>1747323589</td>\n",
       "      <td>1740651360</td>\n",
       "      <td>0</td>\n",
       "      <td>baydonaut</td>\n",
       "      <td>Байдологика</td>\n",
       "      <td>680b7390fee018c5a3ed7901</td>\n",
       "    </tr>\n",
       "    <tr>\n",
       "      <th>124149</th>\n",
       "      <td>680b5fd643627ed63474b2be</td>\n",
       "      <td>https://rip25.livejournal.com</td>\n",
       "      <td>rip25's Journal</td>\n",
       "      <td>1747323589</td>\n",
       "      <td>1296351360</td>\n",
       "      <td>0</td>\n",
       "      <td>rip25</td>\n",
       "      <td>veraugust</td>\n",
       "      <td>680b7390fee018c5a3ed7901</td>\n",
       "    </tr>\n",
       "  </tbody>\n",
       "</table>\n",
       "<p>124150 rows × 9 columns</p>\n",
       "</div>"
      ]
     },
     "execution_count": 21,
     "metadata": {},
     "output_type": "execute_result"
    }
   ],
   "execution_count": 21
  },
  {
   "metadata": {
    "ExecuteTime": {
     "end_time": "2025-06-29T14:10:33.830707Z",
     "start_time": "2025-06-29T14:10:33.761225Z"
    }
   },
   "cell_type": "code",
   "source": "df_live.info()",
   "id": "ba58b2f2a423a34f",
   "outputs": [
    {
     "name": "stdout",
     "output_type": "stream",
     "text": [
      "<class 'pandas.core.frame.DataFrame'>\n",
      "RangeIndex: 124150 entries, 0 to 124149\n",
      "Data columns (total 9 columns):\n",
      " #   Column             Non-Null Count   Dtype \n",
      "---  ------             --------------   ----- \n",
      " 0   _id                124150 non-null  object\n",
      " 1   url                124150 non-null  object\n",
      " 2   title              119205 non-null  object\n",
      " 3   last_taken_ts      124150 non-null  int64 \n",
      " 4   last_published_ts  124150 non-null  int64 \n",
      " 5   last_updated_ts    124150 non-null  int64 \n",
      " 6   extra.username     124150 non-null  object\n",
      " 7   extra.description  81108 non-null   object\n",
      " 8   type_id            124150 non-null  object\n",
      "dtypes: int64(3), object(6)\n",
      "memory usage: 8.5+ MB\n"
     ]
    }
   ],
   "execution_count": 22
  },
  {
   "metadata": {
    "ExecuteTime": {
     "end_time": "2025-06-29T14:10:35.306158Z",
     "start_time": "2025-06-29T14:10:35.271049Z"
    }
   },
   "cell_type": "code",
   "source": "df_live.isnull().sum()",
   "id": "59bf993c875f3362",
   "outputs": [
    {
     "data": {
      "text/plain": [
       "_id                      0\n",
       "url                      0\n",
       "title                 4945\n",
       "last_taken_ts            0\n",
       "last_published_ts        0\n",
       "last_updated_ts          0\n",
       "extra.username           0\n",
       "extra.description    43042\n",
       "type_id                  0\n",
       "dtype: int64"
      ]
     },
     "execution_count": 23,
     "metadata": {},
     "output_type": "execute_result"
    }
   ],
   "execution_count": 23
  },
  {
   "metadata": {
    "ExecuteTime": {
     "end_time": "2025-06-29T14:10:36.466480Z",
     "start_time": "2025-06-29T14:10:36.298453Z"
    }
   },
   "cell_type": "code",
   "source": "df_live.nunique()",
   "id": "3045541bb8fe1cb5",
   "outputs": [
    {
     "data": {
      "text/plain": [
       "_id                  124150\n",
       "url                  124150\n",
       "title                116743\n",
       "last_taken_ts          2483\n",
       "last_published_ts     99556\n",
       "last_updated_ts           1\n",
       "extra.username       124150\n",
       "extra.description     77031\n",
       "type_id                   1\n",
       "dtype: int64"
      ]
     },
     "execution_count": 24,
     "metadata": {},
     "output_type": "execute_result"
    }
   ],
   "execution_count": 24
  },
  {
   "metadata": {},
   "cell_type": "markdown",
   "source": [
    "### Преобразование данных\n",
    "\n",
    "- Преобразуем дату в понятный человеку формат\n",
    "- Уберём все *Не информативные записи*, а именно:\n",
    "    - Удалим записи, где нет поля `title`\n",
    "    - Удалим столбец `last_updated_ts`, все значения 0\n",
    "    - Удалим поля где `last_published_ts` равны 0, так как не понятно, что это эти данные значат, какие-то это профили пользователей, а какие-то это статьи без содержания\n",
    "    - Удалим строки, где дата публикации < 15.04.1999, так как в это время сайт начал свою работу\n"
   ],
   "id": "33d6efdc8c3ab8aa"
  },
  {
   "metadata": {
    "ExecuteTime": {
     "end_time": "2025-06-29T14:43:08.082788Z",
     "start_time": "2025-06-29T14:43:07.871982Z"
    }
   },
   "cell_type": "code",
   "source": [
    "df_live_cleaned = df_live.copy()\n",
    "\n",
    "df_live_cleaned = df_live_cleaned[df_live_cleaned['last_published_ts'] != 0]\n",
    "\n",
    "df_live_cleaned['last_published_ts'] = pd.to_datetime(df_live_cleaned['last_published_ts'], unit='s')\n",
    "df_live_cleaned['last_taken_ts'] = pd.to_datetime(df_live_cleaned['last_taken_ts'], unit='s')\n",
    "\n",
    "df_live_cleaned = df_live_cleaned[df_live_cleaned['last_published_ts'] >= pd.Timestamp(\"1999-04-15\")]\n",
    "\n",
    "df_live_cleaned = df_live_cleaned.replace('NaN', pd.NA)\n",
    "df_live_cleaned = df_live_cleaned.dropna(subset=['title'])\n",
    "\n",
    "\n",
    "df_live_cleaned = df_live_cleaned.drop(columns=['last_updated_ts'])"
   ],
   "id": "addeac68456c7110",
   "outputs": [],
   "execution_count": 73
  },
  {
   "metadata": {
    "ExecuteTime": {
     "end_time": "2025-06-29T14:43:08.408440Z",
     "start_time": "2025-06-29T14:43:08.394062Z"
    }
   },
   "cell_type": "code",
   "source": "df_live_cleaned",
   "id": "800cdb0e3bf77668",
   "outputs": [
    {
     "data": {
      "text/plain": [
       "                             _id                                     url  \\\n",
       "4879    680b5eb543627ed63472e0d8  https://elhombresombro.livejournal.com   \n",
       "4880    680b5eb543627ed63472e0d9  https://mangiana-irina.livejournal.com   \n",
       "4881    680b5eb543627ed63472e0da                https://olegmakarenko.ru   \n",
       "4882    680b5eb543627ed63472e0db                       https://shakko.ru   \n",
       "4883    680b5eb543627ed63472e0dc      https://salmaksoff.livejournal.com   \n",
       "...                          ...                                     ...   \n",
       "124145  680b5fd643627ed63474b2ba       https://asuradeva.livejournal.com   \n",
       "124146  680b5fd643627ed63474b2bb       https://samojloff.livejournal.com   \n",
       "124147  680b5fd643627ed63474b2bc       https://icona-mat.livejournal.com   \n",
       "124148  680b5fd643627ed63474b2bd       https://baydonaut.livejournal.com   \n",
       "124149  680b5fd643627ed63474b2be           https://rip25.livejournal.com   \n",
       "\n",
       "                                      title       last_taken_ts  \\\n",
       "4879                Правила хорошего Антона 2025-05-15 15:55:18   \n",
       "4880              Блог невольной затворницы 2025-05-15 15:55:18   \n",
       "4881                    Место для дискуссий 2025-05-15 15:55:18   \n",
       "4882                    Шакко: об искусстве 2025-05-15 15:55:18   \n",
       "4883        Победа над уЖЖасами неизбеЖЖна! 2025-05-15 15:55:18   \n",
       "...                                     ...                 ...   \n",
       "124145                  asuradeva's Journal 2025-05-15 15:39:49   \n",
       "124146  Толстые люди в просторных футболках 2025-05-15 15:39:49   \n",
       "124147                    Ничего святого... 2025-05-15 15:39:49   \n",
       "124148                          Байдологика 2025-05-15 15:39:49   \n",
       "124149                      rip25's Journal 2025-05-15 15:39:49   \n",
       "\n",
       "         last_published_ts    extra.username  \\\n",
       "4879   2025-04-16 07:54:26    elhombresombro   \n",
       "4880   2025-04-16 07:54:22    mangiana_irina   \n",
       "4881   2025-04-15 17:00:00  olegmakarenko.ru   \n",
       "4882   2025-05-15 15:55:21         shakko.ru   \n",
       "4883   2025-05-15 15:55:21        salmaksoff   \n",
       "...                    ...               ...   \n",
       "124145 2021-10-27 10:05:00         asuradeva   \n",
       "124146 2017-09-08 06:06:00         samojloff   \n",
       "124147 2016-01-12 14:22:00         icona_mat   \n",
       "124148 2025-02-27 10:16:00         baydonaut   \n",
       "124149 2011-01-30 01:36:00             rip25   \n",
       "\n",
       "                                        extra.description  \\\n",
       "4879                  Блогер номер один в Ростове-на-Дону   \n",
       "4880    \"Никто не живёт бесплодно, ничто не пропадает ...   \n",
       "4881    Блогер, предприниматель, общественный деятель....   \n",
       "4882                 Необычный блог про историю искусства   \n",
       "4883                                       Только Победа!   \n",
       "...                                                   ...   \n",
       "124145                                                NaN   \n",
       "124146                Толстые люди в просторных футболках   \n",
       "124147                                  Ничего святого...   \n",
       "124148                                        Байдологика   \n",
       "124149                                          veraugust   \n",
       "\n",
       "                         type_id  \n",
       "4879    680b7390fee018c5a3ed7901  \n",
       "4880    680b7390fee018c5a3ed7901  \n",
       "4881    680b7390fee018c5a3ed7901  \n",
       "4882    680b7390fee018c5a3ed7901  \n",
       "4883    680b7390fee018c5a3ed7901  \n",
       "...                          ...  \n",
       "124145  680b7390fee018c5a3ed7901  \n",
       "124146  680b7390fee018c5a3ed7901  \n",
       "124147  680b7390fee018c5a3ed7901  \n",
       "124148  680b7390fee018c5a3ed7901  \n",
       "124149  680b7390fee018c5a3ed7901  \n",
       "\n",
       "[96800 rows x 8 columns]"
      ],
      "text/html": [
       "<div>\n",
       "<style scoped>\n",
       "    .dataframe tbody tr th:only-of-type {\n",
       "        vertical-align: middle;\n",
       "    }\n",
       "\n",
       "    .dataframe tbody tr th {\n",
       "        vertical-align: top;\n",
       "    }\n",
       "\n",
       "    .dataframe thead th {\n",
       "        text-align: right;\n",
       "    }\n",
       "</style>\n",
       "<table border=\"1\" class=\"dataframe\">\n",
       "  <thead>\n",
       "    <tr style=\"text-align: right;\">\n",
       "      <th></th>\n",
       "      <th>_id</th>\n",
       "      <th>url</th>\n",
       "      <th>title</th>\n",
       "      <th>last_taken_ts</th>\n",
       "      <th>last_published_ts</th>\n",
       "      <th>extra.username</th>\n",
       "      <th>extra.description</th>\n",
       "      <th>type_id</th>\n",
       "    </tr>\n",
       "  </thead>\n",
       "  <tbody>\n",
       "    <tr>\n",
       "      <th>4879</th>\n",
       "      <td>680b5eb543627ed63472e0d8</td>\n",
       "      <td>https://elhombresombro.livejournal.com</td>\n",
       "      <td>Правила хорошего Антона</td>\n",
       "      <td>2025-05-15 15:55:18</td>\n",
       "      <td>2025-04-16 07:54:26</td>\n",
       "      <td>elhombresombro</td>\n",
       "      <td>Блогер номер один в Ростове-на-Дону</td>\n",
       "      <td>680b7390fee018c5a3ed7901</td>\n",
       "    </tr>\n",
       "    <tr>\n",
       "      <th>4880</th>\n",
       "      <td>680b5eb543627ed63472e0d9</td>\n",
       "      <td>https://mangiana-irina.livejournal.com</td>\n",
       "      <td>Блог невольной затворницы</td>\n",
       "      <td>2025-05-15 15:55:18</td>\n",
       "      <td>2025-04-16 07:54:22</td>\n",
       "      <td>mangiana_irina</td>\n",
       "      <td>\"Никто не живёт бесплодно, ничто не пропадает ...</td>\n",
       "      <td>680b7390fee018c5a3ed7901</td>\n",
       "    </tr>\n",
       "    <tr>\n",
       "      <th>4881</th>\n",
       "      <td>680b5eb543627ed63472e0da</td>\n",
       "      <td>https://olegmakarenko.ru</td>\n",
       "      <td>Место для дискуссий</td>\n",
       "      <td>2025-05-15 15:55:18</td>\n",
       "      <td>2025-04-15 17:00:00</td>\n",
       "      <td>olegmakarenko.ru</td>\n",
       "      <td>Блогер, предприниматель, общественный деятель....</td>\n",
       "      <td>680b7390fee018c5a3ed7901</td>\n",
       "    </tr>\n",
       "    <tr>\n",
       "      <th>4882</th>\n",
       "      <td>680b5eb543627ed63472e0db</td>\n",
       "      <td>https://shakko.ru</td>\n",
       "      <td>Шакко: об искусстве</td>\n",
       "      <td>2025-05-15 15:55:18</td>\n",
       "      <td>2025-05-15 15:55:21</td>\n",
       "      <td>shakko.ru</td>\n",
       "      <td>Необычный блог про историю искусства</td>\n",
       "      <td>680b7390fee018c5a3ed7901</td>\n",
       "    </tr>\n",
       "    <tr>\n",
       "      <th>4883</th>\n",
       "      <td>680b5eb543627ed63472e0dc</td>\n",
       "      <td>https://salmaksoff.livejournal.com</td>\n",
       "      <td>Победа над уЖЖасами неизбеЖЖна!</td>\n",
       "      <td>2025-05-15 15:55:18</td>\n",
       "      <td>2025-05-15 15:55:21</td>\n",
       "      <td>salmaksoff</td>\n",
       "      <td>Только Победа!</td>\n",
       "      <td>680b7390fee018c5a3ed7901</td>\n",
       "    </tr>\n",
       "    <tr>\n",
       "      <th>...</th>\n",
       "      <td>...</td>\n",
       "      <td>...</td>\n",
       "      <td>...</td>\n",
       "      <td>...</td>\n",
       "      <td>...</td>\n",
       "      <td>...</td>\n",
       "      <td>...</td>\n",
       "      <td>...</td>\n",
       "    </tr>\n",
       "    <tr>\n",
       "      <th>124145</th>\n",
       "      <td>680b5fd643627ed63474b2ba</td>\n",
       "      <td>https://asuradeva.livejournal.com</td>\n",
       "      <td>asuradeva's Journal</td>\n",
       "      <td>2025-05-15 15:39:49</td>\n",
       "      <td>2021-10-27 10:05:00</td>\n",
       "      <td>asuradeva</td>\n",
       "      <td>NaN</td>\n",
       "      <td>680b7390fee018c5a3ed7901</td>\n",
       "    </tr>\n",
       "    <tr>\n",
       "      <th>124146</th>\n",
       "      <td>680b5fd643627ed63474b2bb</td>\n",
       "      <td>https://samojloff.livejournal.com</td>\n",
       "      <td>Толстые люди в просторных футболках</td>\n",
       "      <td>2025-05-15 15:39:49</td>\n",
       "      <td>2017-09-08 06:06:00</td>\n",
       "      <td>samojloff</td>\n",
       "      <td>Толстые люди в просторных футболках</td>\n",
       "      <td>680b7390fee018c5a3ed7901</td>\n",
       "    </tr>\n",
       "    <tr>\n",
       "      <th>124147</th>\n",
       "      <td>680b5fd643627ed63474b2bc</td>\n",
       "      <td>https://icona-mat.livejournal.com</td>\n",
       "      <td>Ничего святого...</td>\n",
       "      <td>2025-05-15 15:39:49</td>\n",
       "      <td>2016-01-12 14:22:00</td>\n",
       "      <td>icona_mat</td>\n",
       "      <td>Ничего святого...</td>\n",
       "      <td>680b7390fee018c5a3ed7901</td>\n",
       "    </tr>\n",
       "    <tr>\n",
       "      <th>124148</th>\n",
       "      <td>680b5fd643627ed63474b2bd</td>\n",
       "      <td>https://baydonaut.livejournal.com</td>\n",
       "      <td>Байдологика</td>\n",
       "      <td>2025-05-15 15:39:49</td>\n",
       "      <td>2025-02-27 10:16:00</td>\n",
       "      <td>baydonaut</td>\n",
       "      <td>Байдологика</td>\n",
       "      <td>680b7390fee018c5a3ed7901</td>\n",
       "    </tr>\n",
       "    <tr>\n",
       "      <th>124149</th>\n",
       "      <td>680b5fd643627ed63474b2be</td>\n",
       "      <td>https://rip25.livejournal.com</td>\n",
       "      <td>rip25's Journal</td>\n",
       "      <td>2025-05-15 15:39:49</td>\n",
       "      <td>2011-01-30 01:36:00</td>\n",
       "      <td>rip25</td>\n",
       "      <td>veraugust</td>\n",
       "      <td>680b7390fee018c5a3ed7901</td>\n",
       "    </tr>\n",
       "  </tbody>\n",
       "</table>\n",
       "<p>96800 rows × 8 columns</p>\n",
       "</div>"
      ]
     },
     "execution_count": 74,
     "metadata": {},
     "output_type": "execute_result"
    }
   ],
   "execution_count": 74
  },
  {
   "metadata": {},
   "cell_type": "markdown",
   "source": [
    "### Анализ данных\n",
    "Так как, в нашем распоряжении не так много информативной информации, мы можем смотреть только на временное распределение, основываясь на этом можно будет получить инсайды, по которым мы можем получить понимание, в какие моменты времени пользователи сайта [livejournal.com](https://www.livejournal.com/) выкладывали статьи. \n",
    "\n",
    "Далее можно посмотреть на события произошедшее в это время и получить полную картину, что сподвигла людей пользоваться данным веб-ресурсом \n",
    " \n",
    "- В данной секции разберём наши данные по распределению публикаций по времени\n",
    "- Количество публикаций по годам\n",
    "- Количество публикаций по месяцам, найдём самый активный месяц, за всё время\n"
   ],
   "id": "a152cf66e36ae4f6"
  },
  {
   "metadata": {
    "ExecuteTime": {
     "end_time": "2025-06-29T14:45:10.238437Z",
     "start_time": "2025-06-29T14:45:09.807080Z"
    }
   },
   "cell_type": "code",
   "source": [
    "plt.figure(figsize=(12, 6))\n",
    "sns.histplot(df_live_cleaned['last_published_ts'], bins=100)\n",
    "plt.title('Распределение статей по последней дате публикации')\n",
    "plt.xlabel('Дата последней публикации')\n",
    "plt.ylabel('Количество блогов')\n",
    "plt.tight_layout()\n",
    "plt.show()"
   ],
   "id": "20d5247ba9a906ab",
   "outputs": [
    {
     "data": {
      "text/plain": [
       "<Figure size 1200x600 with 1 Axes>"
      ],
      "image/png": "[encoded data removed]"
     },
     "metadata": {},
     "output_type": "display_data"
    }
   ],
   "execution_count": 81
  },
  {
   "metadata": {
    "ExecuteTime": {
     "end_time": "2025-06-29T14:54:44.436582Z",
     "start_time": "2025-06-29T14:54:44.147842Z"
    }
   },
   "cell_type": "code",
   "source": [
    "df_live_cleaned['published_year'] = df_live_cleaned['last_published_ts'].dt.year\n",
    "\n",
    "plt.figure(figsize=(10, 5))\n",
    "df_live_cleaned['published_year'].value_counts().sort_index().plot(kind='bar')\n",
    "plt.title('Количество статей по годам последней публикации')\n",
    "plt.xlabel('Год')\n",
    "plt.ylabel('Количество блогов')\n",
    "plt.xticks(rotation=45)\n",
    "plt.show()"
   ],
   "id": "37e27d995e8ec1d2",
   "outputs": [
    {
     "data": {
      "text/plain": [
       "<Figure size 1000x500 with 1 Axes>"
      ],
      "image/png": "[encoded data removed]"
     },
     "metadata": {},
     "output_type": "display_data"
    }
   ],
   "execution_count": 95
  },
  {
   "metadata": {
    "ExecuteTime": {
     "end_time": "2025-06-29T14:52:19.660254Z",
     "start_time": "2025-06-29T14:52:19.642801Z"
    }
   },
   "cell_type": "code",
   "source": [
    "df_live_cleaned['published_month'] = df_live_cleaned['last_published_ts'].dt.month\n",
    "\n",
    "month_map = {i: calendar.month_name[i] for i in range(1, 13)}\n",
    "df_live_cleaned['published_month_name'] = df_live_cleaned['published_month'].map(month_map)\n",
    "\n",
    "month_counts = df_live_cleaned['published_month'].value_counts().sort_index()\n",
    "month_names = ['Январь', 'Февраль', 'Март', 'Апрель', 'Май', 'Июнь', 'Июль', 'Август', 'Сентябрь', 'Октябрь', 'Ноябрь', 'Декабрь']\n"
   ],
   "id": "d12e81ae0551b75",
   "outputs": [],
   "execution_count": 91
  },
  {
   "metadata": {
    "ExecuteTime": {
     "end_time": "2025-06-29T14:54:31.084209Z",
     "start_time": "2025-06-29T14:54:30.846249Z"
    }
   },
   "cell_type": "code",
   "source": [
    "plt.figure(figsize=(10, 5))\n",
    "plt.bar(month_names, month_counts.values)\n",
    "plt.title('Распределение публикаций по месяцам')\n",
    "plt.xlabel('Месяц')\n",
    "plt.ylabel('Количество блогов (по дате последней публикации)')\n",
    "plt.tight_layout()\n",
    "plt.show()"
   ],
   "id": "a789ce2db7c9daa2",
   "outputs": [
    {
     "data": {
      "text/plain": [
       "<Figure size 1000x500 with 1 Axes>"
      ],
      "image/png": "[encoded data removed]"
     },
     "metadata": {},
     "output_type": "display_data"
    }
   ],
   "execution_count": 93
  },
  {
   "metadata": {},
   "cell_type": "markdown",
   "source": [
    "### Вывод:\n",
    "\n",
    "Данная EDA, показывает, что у людей в последнее время выросла тенденция вести блоги, создавать обсуждения и выражать свои мысли о разных вещах. \n",
    "\n",
    "К сожалению из-за недостатков данных, мы не можем определить, что в большей степени интересно людям, однако спрос на блоги есть\n",
    "\n",
    "Так же хочется отметить, что в зимние месяцы и весенние, публикуется больше всего блогов, это может быть связано с праздниками и выходными днями у большей части целевой аудитории, данных сайтов."
   ],
   "id": "81d1b82a4a3f2a86"
  },
  {
   "metadata": {},
   "cell_type": "markdown",
   "source": "## 2. Первичный анализ maps.csv",
   "id": "4ae601bb2c4059b5"
  },
  {
   "metadata": {},
   "cell_type": "code",
   "outputs": [],
   "execution_count": null,
   "source": "",
   "id": "3cd350ddd27e28d5"
  }
 ],
 "metadata": {
  "kernelspec": {
   "display_name": "Python 3",
   "language": "python",
   "name": "python3"
  },
  "language_info": {
   "codemirror_mode": {
    "name": "ipython",
    "version": 2
   },
   "file_extension": ".py",
   "mimetype": "text/x-python",
   "name": "python",
   "nbconvert_exporter": "python",
   "pygments_lexer": "ipython2",
   "version": "2.7.6"
  }
 },
 "nbformat": 4,
 "nbformat_minor": 5
}
